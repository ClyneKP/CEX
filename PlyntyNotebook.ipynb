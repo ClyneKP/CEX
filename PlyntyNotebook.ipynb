{
 "cells": [
  {
   "cell_type": "markdown",
   "metadata": {},
   "source": [
    "#### Importing Dependencies"
   ]
  },
  {
   "cell_type": "code",
   "execution_count": 1,
   "metadata": {},
   "outputs": [
    {
     "name": "stdout",
     "output_type": "stream",
     "text": [
      "Importing Dependencies\n"
     ]
    }
   ],
   "source": [
    "print(\"Importing Dependencies\")\n",
    "\n",
    "import pandas as pd\n",
    "import numpy as np\n",
    "import os\n",
    "import subprocess\n",
    "from copy import deepcopy\n",
    "import matplotlib.pyplot as plt\n",
    "from BLSFunctions import *"
   ]
  },
  {
   "cell_type": "markdown",
   "metadata": {},
   "source": [
    "# Setting Variables"
   ]
  },
  {
   "cell_type": "code",
   "execution_count": 129,
   "metadata": {},
   "outputs": [
    {
     "name": "stdout",
     "output_type": "stream",
     "text": [
      "Setting Variables\n"
     ]
    }
   ],
   "source": [
    "print(\"Setting Variables\")\n",
    "\n",
    "years = [\"18\",\"19\",\"20\"]\n",
    "filesToRead = [\"fmli\", \"mtbi\"]\n",
    "\n",
    "minAge = 60\n",
    "maxAge = 75\n",
    "\n",
    "familyIncomeBrackets = [-10000000, 10000, 20000, 30000, 40000, 50000, 60000, 70000, 80000, 90000, 100000, 110000, 120000, 130000, 140000, 160000, 180000, 210000, 240000, 290000, 9980000]\n",
    "singleIncomeBrackets = [-10000000, 10000, 20000, 30000, 40000, 50000, 60000, 70000, 90000, 120000, 9980000]\n",
    "\n",
    "PSUs = []\n",
    "\n",
    "pumdDir = \"/Users/ClyneKP/Desktop/DC CES/\""
   ]
  },
  {
   "cell_type": "markdown",
   "metadata": {},
   "source": [
    "# Reading in Stubfiles"
   ]
  },
  {
   "cell_type": "code",
   "execution_count": 130,
   "metadata": {},
   "outputs": [
    {
     "name": "stdout",
     "output_type": "stream",
     "text": [
      "Reading in Stubfiles\n",
      "Stubfiles Exist\n"
     ]
    }
   ],
   "source": [
    "print(\"Reading in Stubfiles\")\n",
    "\n",
    "# Directory where stubfiles are located\n",
    "pathToStubFileDir = \"/Users/ClyneKP/Desktop/DC CES/Stubfiles/\"\n",
    "rScriptStubfilePathAndName = \"./creatingStubCsvs.R\"\n",
    "\n",
    "stubFileDict = {}\n",
    "stubFileDict[\"IStub\"] =  \"CE-HG-Integ-2020.txt\"\n",
    "stubFileDict[\"DStub\"] =  \"CE-HG-Diary-2020.txt\"\n",
    "stubFileDict[\"IntStub\"] =  \"CE-HG-Inter-2020.txt\"\n",
    "\n",
    "if os.path.isfile(pathToStubFileDir+\"DStub.csv\") and os.path.isfile(pathToStubFileDir+\"IStub.csv\") and os.path.isfile(pathToStubFileDir+\"IntStub.csv\"):\n",
    "    print(\"Stubfiles Exist\")\n",
    "else:\n",
    "    # converting the stub files via R \n",
    "    subprocess.call(\"Rscript \"+rScriptStubfilePathAndName+\" \"+pathToStubFileDir+\" \"+stubFileDict[\"IStub\"]+\" \"+stubFileDict[\"DStub\"]+\" \"+stubFileDict[\"IntStub\"], shell=True)\n",
    "    print(\"Stubfile Csvs created in \"+pathToStubFileDir)\n",
    "    \n",
    "# reading and cleaning the stubfiles    \n",
    "for key in stubFileDict.keys():\n",
    "    stubFileDict[key] = pd.read_csv(pathToStubFileDir+key+\".csv\")\n",
    "    stubFileDict[key] = stubFileDict[key].drop(stubFileDict[key].columns[0], axis=1)\n",
    "    stubFileDict[key].loc[stubFileDict[key].level == \"*\", 'level'] = 0"
   ]
  },
  {
   "cell_type": "markdown",
   "metadata": {},
   "source": [
    "# Creating the Data dictionary\n",
    "output:\n",
    "   - data (dictionary)\n",
    "      - key: filenameYear\n",
    "      - value: dataframe"
   ]
  },
  {
   "cell_type": "code",
   "execution_count": 228,
   "metadata": {
    "scrolled": true
   },
   "outputs": [
    {
     "name": "stdout",
     "output_type": "stream",
     "text": [
      "Creating the Data dictionary\n",
      "Reading fmli18\n",
      "Reading mtbi18\n",
      "Reading fmli19\n",
      "Reading mtbi19\n",
      "Reading fmli20\n",
      "Reading mtbi20\n"
     ]
    }
   ],
   "source": [
    "print(\"Creating the Data dictionary\")\n",
    "\n",
    "data = {}\n",
    "for year in years:\n",
    "    yearDir = pumdDir+\"intrvw\"+year+\"/\"\n",
    "    for file in filesToRead:\n",
    "        print(\"Reading \"+file+year)\n",
    "        dataframe = readFileSet(file,yearDir)\n",
    "        if file == 'fmli':\n",
    "            dataframe[dataframe['STATE'] == 11]\n",
    "        else:\n",
    "            dataframe = dataframe[dataframe['NEWID'].isin(data['fmli'+year]['NEWID'])]\n",
    "        data[file+year] = dataframe\n",
    "        \n",
    "fmli = pd.concat([value for key,value in data.items() if 'fmli' in key.lower()], ignore_index=True)"
   ]
  },
  {
   "cell_type": "markdown",
   "metadata": {},
   "source": [
    "# Creating Subset NEWID dictionary\n",
    "output:\n",
    "- subsetNEWIDs\n",
    " - key: Subset Category\n",
    " - value: dictionary or list of NEWIDs associated with the subset"
   ]
  },
  {
   "cell_type": "code",
   "execution_count": 229,
   "metadata": {},
   "outputs": [
    {
     "name": "stdout",
     "output_type": "stream",
     "text": [
      "Creating Subset NEWID dictionary\n"
     ]
    }
   ],
   "source": [
    "print(\"Creating Subset NEWID dictionary\")\n",
    "\n",
    "subsetNEWIDs = {}\n",
    "subsetNEWIDs[\"Age\"] = []\n",
    "subsetNEWIDs[\"Family\"] = []\n",
    "subsetNEWIDs[\"Single\"] = []\n",
    "subsetNEWIDs[\"Year\"] = {}\n",
    "subsetNEWIDs[\"Month\"] = {}\n",
    "subsetNEWIDs[\"FamilyIncome\"] = {}\n",
    "subsetNEWIDs[\"SingleIncome\"] = {}\n",
    "\n",
    "# creating empty lists within dictionaries\n",
    "for bracket in range(1,len(familyIncomeBrackets)):\n",
    "    subsetNEWIDs[\"FamilyIncome\"][bracket] = []\n",
    "for bracket in range(1,len(singleIncomeBrackets)):\n",
    "    subsetNEWIDs[\"SingleIncome\"][bracket] = []\n",
    "for month in range(1,13):\n",
    "    subsetNEWIDs[\"Month\"][month] = []\n",
    "for year in years:\n",
    "    subsetNEWIDs[\"Year\"][2000+int(year)] = []\n",
    "    \n",
    "# filling in lists\n",
    "for year in years:\n",
    "    fmliYear = \"fmli\"+year\n",
    "    subsetNEWIDs[\"Age\"].extend(getSubsetNEWIDs(dataframe=data[fmliYear], columnName=\"AGE_REF\", minValue=minAge, maxValue=maxAge))\n",
    "    subsetNEWIDs[\"Family\"].extend(getSubsetNEWIDs(dataframe=data[fmliYear], columnName=\"FAM_SIZE\", minValue = 2, maxValue = 100))\n",
    "    subsetNEWIDs[\"Single\"].extend(getSubsetNEWIDs(dataframe=data[fmliYear], columnName=\"FAM_SIZE\", minValue = 1))\n",
    "    for year1 in years:\n",
    "        subsetNEWIDs[\"Year\"][2000+int(year1)].extend(getSubsetNEWIDs(dataframe=data[fmliYear], columnName = \"QINTRVYR\", minValue = 2000+int(year1)))\n",
    "    for month in subsetNEWIDs[\"Month\"].keys():\n",
    "        subsetNEWIDs[\"Month\"][month].extend(getSubsetNEWIDs(dataframe=data[fmliYear], columnName = \"QINTRVMO\",  minValue = month))\n",
    "    for bracket in subsetNEWIDs[\"FamilyIncome\"].keys():\n",
    "        subsetNEWIDs[\"FamilyIncome\"][bracket].extend(getSubsetNEWIDs(dataframe=data[fmliYear], columnName=\"FINCBTXM\",minValue = familyIncomeBrackets[bracket-1], maxValue = familyIncomeBrackets[bracket]-1))\n",
    "    for bracket in subsetNEWIDs[\"SingleIncome\"].keys():\n",
    "        subsetNEWIDs[\"SingleIncome\"][bracket].extend(getSubsetNEWIDs(dataframe=data[fmliYear], columnName=\"FINCBTXM\",minValue = singleIncomeBrackets[bracket-1], maxValue = singleIncomeBrackets[bracket]-1))"
   ]
  },
  {
   "cell_type": "markdown",
   "metadata": {},
   "source": [
    "### Creating Human Readable Income bracket dictionaries"
   ]
  },
  {
   "cell_type": "code",
   "execution_count": 230,
   "metadata": {},
   "outputs": [],
   "source": [
    "getSingleIncomeBracket = {}\n",
    "for bracket in subsetNEWIDs[\"SingleIncome\"].keys():\n",
    "    getSingleIncomeBracket[bracket] = str(singleIncomeBrackets[bracket-1])+\"-\"+str(singleIncomeBrackets[bracket])\n",
    "\n",
    "getFamilyIncomeBracket = {}\n",
    "for bracket in subsetNEWIDs[\"FamilyIncome\"].keys():\n",
    "    getFamilyIncomeBracket[bracket] = str(familyIncomeBrackets[bracket-1])+\"-\"+str(familyIncomeBrackets[bracket])"
   ]
  },
  {
   "cell_type": "markdown",
   "metadata": {},
   "source": [
    "# Subsetting NEWIDs based on SubsetNEWIDs dictionary\n",
    "outputs:\n",
    "- Single (dictionary)\n",
    " - key: tuple of subset category\n",
    " - value: set of NEWIDs assocaiated with tuple\n",
    "- Family (dictionary)\n",
    " - key: tuple of subset category\n",
    " - value: set of NEWIDs assocaiated with tuple"
   ]
  },
  {
   "cell_type": "code",
   "execution_count": 231,
   "metadata": {},
   "outputs": [
    {
     "name": "stdout",
     "output_type": "stream",
     "text": [
      "Subsetting NEWIDs\n"
     ]
    }
   ],
   "source": [
    "print(\"Subsetting NEWIDs\")\n",
    "\n",
    "Single = subsetDictionary(subsetNEWIDs, [\"Age\",\"Single\",\"Year\",\"Month\",\"SingleIncome\"])\n",
    "Family = subsetDictionary(subsetNEWIDs, [\"Age\",\"Family\",\"Year\",\"Month\",\"FamilyIncome\"])"
   ]
  },
  {
   "cell_type": "markdown",
   "metadata": {},
   "source": [
    "# Creating Categorical UCC rollups\n",
    "outputs:\n",
    "- rollupDict (dictionary)\n",
    " - key: Rollup category name\n",
    " - value: list of NEWIDs associated with rollup"
   ]
  },
  {
   "cell_type": "code",
   "execution_count": 232,
   "metadata": {},
   "outputs": [
    {
     "name": "stdout",
     "output_type": "stream",
     "text": [
      "Creating Categorical UCC rollups\n"
     ]
    }
   ],
   "source": [
    "print(\"Creating Categorical UCC rollups\")\n",
    "\n",
    "MonthlyHousing = [\"220311\",\"220313\",\"880110\",\"210110\",\"800710\",\"210901\",\"220312\",\"220314\",\"880310\",\"210902\",\"220211\",\"230901\",\"340911\",\"220901\",\"220212\",\"230902\",\"340912\",\"220902\",\"210310\"]\n",
    "MonthlyHousing.extend(categoricalUCCRollUp(stubFileDict[\"IStub\"], [\"UTILS\"]))\n",
    "\n",
    "rollupDict = {\"TotalExp\":(categoricalUCCRollUp(stubFileDict[\"IStub\"],[\"TOTALE\"])),\n",
    "\"FoodAtHome\":(categoricalUCCRollUp(stubFileDict[\"IStub\"], [\"FOODHO\", \"ALCHOM\"])),\n",
    "\"FoodAway\":(categoricalUCCRollUp(stubFileDict[\"IStub\"], [\"FOODAW\", \"ALCAWA\"])),\n",
    "\"Housing\":([\"220311\",\"220313\",\"880110\",\"210110\",\"800710\",\"210901\",\"220312\",\"220314\",\"880310\",\"210902\",\"220211\",\"230901\",\"340911\",\"220901\",\"220212\",\"230902\",\"340912\",\"220902\",\"210310\"]),\n",
    "\"OtherHousing\":(categoricalUCCRollUp(stubFileDict[\"IStub\"], [\"HOUSIN\"], ignoreUCCs = MonthlyHousing)),\n",
    "\"Utilities\":(categoricalUCCRollUp(stubFileDict[\"IStub\"], [\"UTILS\"])),\n",
    "\"ClothingAndBeauty\":(categoricalUCCRollUp(stubFileDict[\"IStub\"], [\"APPARE\",\"PERSCA\"])),\n",
    "\"Transportation\":(categoricalUCCRollUp(stubFileDict[\"IStub\"], [\"TRANS\"])),\n",
    "\"Healthcare\":(categoricalUCCRollUp(stubFileDict[\"IStub\"], [\"HEALTH\"])),\n",
    "\"Entertainment\":(categoricalUCCRollUp(stubFileDict[\"IStub\"], [\"ENTRTA\",\"READIN\"])),\n",
    "\"Miscellaneous\":(categoricalUCCRollUp(stubFileDict[\"IStub\"], [\"MISC\",\"TOBACC\"])),\n",
    "\"CharitableAndFamilyGiving\":(categoricalUCCRollUp(stubFileDict[\"IStub\"], [\"CASHCO\"])),\n",
    "\"Insurance\":(categoricalUCCRollUp(stubFileDict[\"IStub\"], [\"LIFEIN\"])),\n",
    "\"Education\":(categoricalUCCRollUp(stubFileDict[\"IStub\"], [\"EDUCAT\"])),\n",
    "\"HousingPrinciple\":(categoricalUCCRollUp(stubFileDict[\"IStub\"],[\"MRTPRI\"]))}\n",
    "\n",
    "# converting rollupDict to ints\n",
    "for key,value in rollupDict.items():\n",
    "    rollupDict[key] = list(map(int, value))"
   ]
  },
  {
   "cell_type": "markdown",
   "metadata": {},
   "source": [
    "# Rolling up MTBI files into categories\n",
    "- creates columns in the mtbi files that correspond with the rollup categories\n",
    "- fills new rollup columns based on mtbi observations"
   ]
  },
  {
   "cell_type": "code",
   "execution_count": 233,
   "metadata": {},
   "outputs": [
    {
     "name": "stdout",
     "output_type": "stream",
     "text": [
      "Rolling up MTBI files into Categories\n"
     ]
    }
   ],
   "source": [
    "print(\"Rolling up MTBI files into Categories\")\n",
    "\n",
    "negativeColumns = [\"HousingPrinciple\"]\n",
    "multiple = 1\n",
    "for dataframe in [key for key in data.keys() if 'mtbi' in key.lower()]:\n",
    "    for key,value in rollupDict.items():\n",
    "        if(key in negativeColumns):\n",
    "            multiple *= -1\n",
    "        data[dataframe][key] = np.where(data[dataframe].UCC.isin(rollupDict[key]), data[dataframe].COST * multiple, 0)\n",
    "        multiple = abs(multiple)"
   ]
  },
  {
   "cell_type": "markdown",
   "metadata": {},
   "source": [
    "#### Cleaning the MTBI dataframes"
   ]
  },
  {
   "cell_type": "code",
   "execution_count": 234,
   "metadata": {},
   "outputs": [],
   "source": [
    "keepColumns = list(rollupDict.keys())\n",
    "keepColumns.append(\"NEWID\")\n",
    "\n",
    "for dataframe in [key for key in data.keys() if 'mtbi' in key.lower()]:\n",
    "    data[dataframe] = data[dataframe][keepColumns]"
   ]
  },
  {
   "cell_type": "markdown",
   "metadata": {},
   "source": [
    "# Adding up all the expenses by each NEWID\n",
    "- Sums for each NEWID\n",
    "- Adds HousingPrinciple into Housing\n",
    "- Adds HousingPrinciple into TotalExp\n",
    "- Drops the HousingPrinciple column"
   ]
  },
  {
   "cell_type": "code",
   "execution_count": 235,
   "metadata": {},
   "outputs": [
    {
     "name": "stdout",
     "output_type": "stream",
     "text": [
      "Adding up all the expenses by NEWIDs\n"
     ]
    }
   ],
   "source": [
    "print(\"Adding up all the expenses by NEWIDs\")\n",
    "\n",
    "for dataframe in [key for key in data.keys() if 'mtbi' in key.lower()]:\n",
    "    data[dataframe] = data[dataframe].groupby(['NEWID'],as_index=False).sum()\n",
    "    data[dataframe]['Housing'] += data[dataframe]['HousingPrinciple']\n",
    "    data[dataframe]['TotalExp'] += data[dataframe]['HousingPrinciple']\n",
    "    data[dataframe] = data[dataframe].drop('HousingPrinciple',axis=1)"
   ]
  },
  {
   "cell_type": "markdown",
   "metadata": {},
   "source": [
    "### Subsetting MTBI files with subset NEWIDs"
   ]
  },
  {
   "cell_type": "code",
   "execution_count": 236,
   "metadata": {},
   "outputs": [
    {
     "name": "stdout",
     "output_type": "stream",
     "text": [
      "Subsetting MTBI files\n"
     ]
    }
   ],
   "source": [
    "print(\"Subsetting MTBI files\")\n",
    "\n",
    "expensesByNEWIDSingle = expensesSumByNEWID(Single, data)\n",
    "expensesByNEWIDFamily = expensesSumByNEWID(Family, data)"
   ]
  },
  {
   "cell_type": "markdown",
   "metadata": {},
   "source": [
    "### Saving the pre-weight expenses by NEWID for the regression"
   ]
  },
  {
   "cell_type": "code",
   "execution_count": 237,
   "metadata": {},
   "outputs": [],
   "source": [
    "nonWeightedExpensesByNEWIDSingle = deepcopy(expensesByNEWIDSingle)\n",
    "nonWeightedExpensesByNEWIDFamily = deepcopy(expensesByNEWIDFamily)"
   ]
  },
  {
   "cell_type": "markdown",
   "metadata": {},
   "source": [
    "## Weighting the Samples"
   ]
  },
  {
   "cell_type": "code",
   "execution_count": 238,
   "metadata": {},
   "outputs": [
    {
     "name": "stdout",
     "output_type": "stream",
     "text": [
      "Weighting the Samples... This may take a while.\n"
     ]
    }
   ],
   "source": [
    "print(\"Weighting the Samples... This may take a while.\")\n",
    "\n",
    "weightSeries = fmli[\"FINLWT21\"]/12\n",
    "weightSeries.index = fmli[\"NEWID\"]\n",
    "\n",
    "expensesesByNEWIDSingle = weightExpensesByNEWID(expensesByNEWIDSingle, weightSeries)\n",
    "expensesByNEWIDFamily = weightExpensesByNEWID(expensesByNEWIDFamily, weightSeries)"
   ]
  },
  {
   "cell_type": "markdown",
   "metadata": {},
   "source": [
    "## Combining Data frames by Income Class"
   ]
  },
  {
   "cell_type": "code",
   "execution_count": 239,
   "metadata": {},
   "outputs": [],
   "source": [
    "IncomeClassesSingle = {}\n",
    "for income in subsetNEWIDs[\"SingleIncome\"]:\n",
    "    incomeClass = pd.DataFrame()\n",
    "    for year in subsetNEWIDs[\"Year\"]:\n",
    "        for month in subsetNEWIDs[\"Month\"]:\n",
    "            incomeClass = incomeClass.append(expensesByNEWIDSingle[(year,month,income)], ignore_index=True)\n",
    "    IncomeClassesSingle[income] = incomeClass\n",
    "    \n",
    "IncomeClassesFamily = {}\n",
    "for income in subsetNEWIDs[\"FamilyIncome\"]:\n",
    "    incomeClass = pd.DataFrame()\n",
    "    for year in subsetNEWIDs[\"Year\"]:\n",
    "        for month in subsetNEWIDs[\"Month\"]:\n",
    "            incomeClass = incomeClass.append(expensesByNEWIDFamily[(year,month,income)], ignore_index=True)\n",
    "    IncomeClassesFamily[income] = incomeClass"
   ]
  },
  {
   "cell_type": "markdown",
   "metadata": {},
   "source": [
    "### Sum of all the columns\n",
    "- Adding up all the columns of a dataframe into totals contained in a dictionary "
   ]
  },
  {
   "cell_type": "code",
   "execution_count": 240,
   "metadata": {},
   "outputs": [],
   "source": [
    "plyntySingleSumDict = dictionarySum(IncomeClassesSingle)\n",
    "plyntyFamilySumDict = dictionarySum(IncomeClassesFamily)"
   ]
  },
  {
   "cell_type": "markdown",
   "metadata": {},
   "source": [
    "### Creating the Percentage dictionaries"
   ]
  },
  {
   "cell_type": "code",
   "execution_count": 241,
   "metadata": {},
   "outputs": [
    {
     "name": "stdout",
     "output_type": "stream",
     "text": [
      "Creating the percentage dictionaries\n"
     ]
    }
   ],
   "source": [
    "print(\"Creating the percentage dictionaries\")\n",
    "\n",
    "# fixing the TotalExp\n",
    "for income in plyntySingleSumDict.keys():\n",
    "    total = 0\n",
    "    for key,value in plyntySingleSumDict[income].items():\n",
    "        if not key == 'TotalExp':\n",
    "            total += value\n",
    "    plyntySingleSumDict[income]['TotalExp'] = total\n",
    "\n",
    "for income in plyntyFamilySumDict.keys():\n",
    "    total = 0\n",
    "    for key,value in plyntyFamilySumDict[income].items():\n",
    "        if not key == 'TotalExp':\n",
    "            total += value\n",
    "    plyntyFamilySumDict[income]['TotalExp'] = total"
   ]
  },
  {
   "cell_type": "code",
   "execution_count": 242,
   "metadata": {},
   "outputs": [],
   "source": [
    "plyntySingleDict = incomeSumToPercent(plyntySingleSumDict, \"TotalExp\")\n",
    "plyntyFamilyDict = incomeSumToPercent(plyntyFamilySumDict, \"TotalExp\")"
   ]
  },
  {
   "cell_type": "markdown",
   "metadata": {},
   "source": [
    "### Deleting the TotalExp Column\n",
    "This column at this point will be all 1s"
   ]
  },
  {
   "cell_type": "code",
   "execution_count": 243,
   "metadata": {},
   "outputs": [],
   "source": [
    "for key in plyntySingleDict.keys():\n",
    "    del plyntySingleDict[key]['TotalExp']\n",
    "for key in plyntyFamilyDict.keys():\n",
    "    del plyntyFamilyDict[key]['TotalExp']"
   ]
  },
  {
   "cell_type": "markdown",
   "metadata": {},
   "source": [
    "# Creating and printing out the Dataframes"
   ]
  },
  {
   "cell_type": "code",
   "execution_count": 244,
   "metadata": {
    "scrolled": true
   },
   "outputs": [],
   "source": [
    "Single = pd.DataFrame.from_dict(plyntySingleDict,orient='index')\n",
    "Family = pd.DataFrame.from_dict(plyntyFamilyDict,orient='index')"
   ]
  },
  {
   "cell_type": "markdown",
   "metadata": {},
   "source": [
    "# Income Spent Regression\n",
    "### Making Dataframe of NEWID,TotalExp, and income before taxes\n",
    "outputs:\n",
    "- incomeRegressionSingle (dataframe)\n",
    " - contains NEWID, TotalExp, and IncomeBeforeTaxes for each NEWID in single subset\n",
    "- incomeRegressionFamily (dataframe)\n",
    " - contains NEWID, TotalExp, and IncomeBeforeTaxes for each NEWID in family subset"
   ]
  },
  {
   "cell_type": "code",
   "execution_count": 246,
   "metadata": {},
   "outputs": [
    {
     "name": "stdout",
     "output_type": "stream",
     "text": [
      "Creating the Income Spent Regression\n"
     ]
    }
   ],
   "source": [
    "print(\"Creating the Income Spent Regression\")\n",
    "\n",
    "incomeRegressionSingle = pd.DataFrame()\n",
    "for value in nonWeightedExpensesByNEWIDSingle.values():\n",
    "    incomeRegressionSingle = incomeRegressionSingle.append(value[[\"NEWID\",\"TotalExp\"]], ignore_index=True)\n",
    "\n",
    "incomeRegressionFamily = pd.DataFrame()\n",
    "for value in nonWeightedExpensesByNEWIDFamily.values():\n",
    "    incomeRegressionFamily = incomeRegressionFamily.append(value[[\"NEWID\",\"TotalExp\"]], ignore_index=True)\n",
    "\n",
    "fmli = pd.concat([value for key,value in data.items() if 'fmli' in key.lower()], ignore_index=True)[[\"NEWID\",\"FINCBTXM\"]]    \n",
    "\n",
    "incomeRegressionSingle = pd.merge(incomeRegressionSingle, fmli, on='NEWID', how='inner')\n",
    "incomeRegressionSingle['TotalExp'] = incomeRegressionSingle['TotalExp'] * 4\n",
    "incomeRegressionSingle = incomeRegressionSingle[incomeRegressionSingle > 0].dropna()\n",
    "\n",
    "incomeRegressionFamily = pd.merge(incomeRegressionFamily, fmli, on='NEWID', how='inner')\n",
    "incomeRegressionFamily['TotalExp'] = incomeRegressionFamily['TotalExp'] * 4\n",
    "incomeRegressionFamily = incomeRegressionFamily[incomeRegressionFamily > 0].dropna()"
   ]
  },
  {
   "cell_type": "code",
   "execution_count": 247,
   "metadata": {},
   "outputs": [],
   "source": [
    "def getExpendPercent(income, regressionDf, truncation = None):\n",
    "    if income <= 0:\n",
    "        return(1)\n",
    "    coefficients = np.polyfit(regressionDf.FINCBTXM, regressionDf.TotalExp, deg = 3)\n",
    "    p = np.poly1d(coefficients)\n",
    "#     print(p)\n",
    "    np.seterr(divide='ignore')\n",
    "    percent = p(income)/income\n",
    "    if percent > 1:\n",
    "        percent = 1\n",
    "    if (not truncation == None) and len(truncation) == 2:\n",
    "        truncationIncome = truncation[0]\n",
    "        truncationPercent = truncation[1]\n",
    "        if income > truncationIncome:\n",
    "            return(truncationPercent)\n",
    "    elif not truncation == None:\n",
    "        print(\"Truncation is not correct\")\n",
    "    return(percent)\n",
    "\n",
    "def oldRegression(income):\n",
    "    if income > 53000:\n",
    "        output = ((-7.6108*(10**(-17)))*(income**3))+((4.2009*(10**(-11)))*(income**2))+((-7.90256*(10**-6))*income)+1.21112\n",
    "    else:\n",
    "        output = 1\n",
    "    return(output)"
   ]
  },
  {
   "cell_type": "markdown",
   "metadata": {},
   "source": [
    "# Plotting"
   ]
  },
  {
   "cell_type": "markdown",
   "metadata": {},
   "source": [
    "### Creating the Percent of Income Spent Graph"
   ]
  },
  {
   "cell_type": "code",
   "execution_count": 248,
   "metadata": {},
   "outputs": [],
   "source": [
    "xSingleRegression = range(0,400000,1000)\n",
    "xFamilyRegression = range(0,400000,1000)\n",
    "ySingleRegression = []\n",
    "yFamilyRegression = []\n",
    "yOldRegression = []\n",
    "for income in xSingleRegression:\n",
    "    ySingleRegression.append(getExpendPercent(income, incomeRegressionSingle))\n",
    "for income in xFamilyRegression:\n",
    "    yFamilyRegression.append(getExpendPercent(income, incomeRegressionFamily))\n",
    "for income in xOldRegression:\n",
    "    yOldRegression.append(oldRegression(income))"
   ]
  },
  {
   "cell_type": "markdown",
   "metadata": {},
   "source": [
    "### Trucation point for regressions"
   ]
  },
  {
   "cell_type": "code",
   "execution_count": 253,
   "metadata": {},
   "outputs": [],
   "source": [
    "SingleTruncation = [ySingleRegression.index(min(ySingleRegression)) * 1000, round(min(ySingleRegression),2)]\n",
    "FamilyTruncation = [yFamilyRegression.index(min(yFamilyRegression)) * 1000, round(min(yFamilyRegression),2)]\n",
    "ySingleRegression = []\n",
    "yFamilyRegression = []\n",
    "for income in xSingleRegression:\n",
    "    ySingleRegression.append(getExpendPercent(income, incomeRegressionSingle, SingleTruncation))\n",
    "for income in xFamilyRegression:\n",
    "    yFamilyRegression.append(getExpendPercent(income, incomeRegressionFamily, FamilyTruncation))"
   ]
  },
  {
   "cell_type": "code",
   "execution_count": 169,
   "metadata": {
    "scrolled": false
   },
   "outputs": [
    {
     "data": {
      "image/png": "[encoded data removed]",
      "text/plain": [
       "<Figure size 432x288 with 1 Axes>"
      ]
     },
     "metadata": {
      "needs_background": "light"
     },
     "output_type": "display_data"
    }
   ],
   "source": [
    "plt.plot(xSingleRegression,ySingleRegression, color = \"b\", label = \"Single Regression\")\n",
    "plt.plot(xFamilyRegression,yFamilyRegression, color = \"r\", label = \"Family Regression\")\n",
    "plt.title(\"Income Spent Regressions\")\n",
    "plt.xlabel(\"Income\")\n",
    "plt.ylabel(\"Percent of Income Spent\")\n",
    "plt.legend()\n",
    "plt.show()"
   ]
  },
  {
   "cell_type": "markdown",
   "metadata": {},
   "source": [
    "### Income vs Expenditure plots"
   ]
  },
  {
   "cell_type": "code",
   "execution_count": 254,
   "metadata": {},
   "outputs": [],
   "source": [
    "sortedIncomeSingleRegression = sorted(list(set(incomeRegressionSingle.FINCBTXM)))\n",
    "singleIncomeRegressionExamples = []\n",
    "for income in sortedIncomeSingleRegression:\n",
    "    singleIncomeRegressionExamples.append(income * getExpendPercent(income, incomeRegressionSingle))\n",
    "    \n",
    "sortedIncomeFamilyRegression = sorted(list(set(incomeRegressionFamily.FINCBTXM)))\n",
    "familyIncomeRegressionExamples = []\n",
    "for income in sortedIncomeFamilyRegression:\n",
    "    familyIncomeRegressionExamples.append(income * getExpendPercent(income, incomeRegressionFamily))"
   ]
  },
  {
   "cell_type": "code",
   "execution_count": 255,
   "metadata": {},
   "outputs": [
    {
     "data": {
      "image/png": "[encoded data removed]",
      "text/plain": [
       "<Figure size 432x288 with 1 Axes>"
      ]
     },
     "metadata": {
      "needs_background": "light"
     },
     "output_type": "display_data"
    }
   ],
   "source": [
    "plt.scatter(incomeRegressionSingle.FINCBTXM, incomeRegressionSingle.TotalExp, color='b', s=3)\n",
    "plt.plot(sortedIncomeSingleRegression, singleIncomeRegressionExamples, color = \"black\")\n",
    "plt.xlabel(\"Income before Taxes\")\n",
    "plt.ylabel(\"Dollars Spent on Categories\")\n",
    "plt.title(\"Single person CUs Income vs Expenditure\")\n",
    "plt.xlim(0,700000)\n",
    "plt.ylim(0,1000000)\n",
    "plt.show()"
   ]
  },
  {
   "cell_type": "code",
   "execution_count": 256,
   "metadata": {},
   "outputs": [
    {
     "data": {
      "image/png": "[encoded data removed]",
      "text/plain": [
       "<Figure size 432x288 with 1 Axes>"
      ]
     },
     "metadata": {
      "needs_background": "light"
     },
     "output_type": "display_data"
    }
   ],
   "source": [
    "plt.scatter(incomeRegressionFamily.FINCBTXM, incomeRegressionFamily.TotalExp, color='r', s=3)\n",
    "plt.plot(sortedIncomeFamilyRegression, familyIncomeRegressionExamples, color = \"black\")\n",
    "plt.xlabel(\"Income before Taxes\")\n",
    "plt.ylabel(\"Dollars Spent on Categories\")\n",
    "plt.title(\"Multiple person CUs Income vs Expenditure\")\n",
    "plt.xlim(0,700000)\n",
    "plt.ylim(0,1000000)\n",
    "plt.show()"
   ]
  },
  {
   "cell_type": "markdown",
   "metadata": {},
   "source": [
    "## Income vs Expenditure Plots using FLMI Columns\n",
    "- fmli columns: pre-made columns totals from the bls that deal with total expenditure"
   ]
  },
  {
   "cell_type": "code",
   "execution_count": 258,
   "metadata": {},
   "outputs": [
    {
     "data": {
      "image/png": "[encoded data removed]",
      "text/plain": [
       "<Figure size 432x288 with 1 Axes>"
      ]
     },
     "metadata": {
      "needs_background": "light"
     },
     "output_type": "display_data"
    }
   ],
   "source": [
    "xTestRegression = range(0,400000,1000)\n",
    "\n",
    "yTestRegression = []\n",
    "\n",
    "for income in xTestRegression:\n",
    "    yTestRegression.append(getExpendPercent(income, testRegressionDF))\n",
    "\n",
    "TestTruncation = [yTestRegression.index(min(yTestRegression)) * 1000, round(min(yTestRegression),2)]\n",
    "yTestRegression = []\n",
    "for income in xTestRegression:\n",
    "    yTestRegression.append(getExpendPercent(income, testRegressionDF, TestTruncation))\n",
    "    \n",
    "plt.plot(xTestRegression,yTestRegression, color = \"b\", label = \"Single FMLI\")\n",
    "plt.title(\"Income Spent Regressions\")\n",
    "plt.xlabel(\"Income\")\n",
    "plt.ylabel(\"Percent of Income Spent\")\n",
    "plt.ylim(0.25,1.05)\n",
    "plt.legend()\n",
    "plt.show()"
   ]
  },
  {
   "cell_type": "code",
   "execution_count": null,
   "metadata": {},
   "outputs": [],
   "source": [
    "plt.bar(range(len(familyCountNEWIDs)), familyCountNEWIDs.values(), align='center', color='r')\n",
    "plt.xticks(range(len(familyCountNEWIDs)), familyCountNEWIDs.keys())\n",
    "plt.xlabel(\"Income Class\")\n",
    "plt.ylabel(\"Count of CUs\")\n",
    "plt.title(\"Count of Family CUs\")\n",
    "plt.show()"
   ]
  },
  {
   "cell_type": "markdown",
   "metadata": {},
   "source": [
    "# Get Example Expenditures"
   ]
  },
  {
   "cell_type": "code",
   "execution_count": 259,
   "metadata": {},
   "outputs": [
    {
     "data": {
      "text/html": [
       "<div>\n",
       "<style scoped>\n",
       "    .dataframe tbody tr th:only-of-type {\n",
       "        vertical-align: middle;\n",
       "    }\n",
       "\n",
       "    .dataframe tbody tr th {\n",
       "        vertical-align: top;\n",
       "    }\n",
       "\n",
       "    .dataframe thead th {\n",
       "        text-align: right;\n",
       "    }\n",
       "</style>\n",
       "<table border=\"1\" class=\"dataframe\">\n",
       "  <thead>\n",
       "    <tr style=\"text-align: right;\">\n",
       "      <th></th>\n",
       "      <th>10</th>\n",
       "    </tr>\n",
       "  </thead>\n",
       "  <tbody>\n",
       "    <tr>\n",
       "      <th>FoodAtHome</th>\n",
       "      <td>7557.60</td>\n",
       "    </tr>\n",
       "    <tr>\n",
       "      <th>FoodAway</th>\n",
       "      <td>3702.86</td>\n",
       "    </tr>\n",
       "    <tr>\n",
       "      <th>Housing</th>\n",
       "      <td>13146.18</td>\n",
       "    </tr>\n",
       "    <tr>\n",
       "      <th>OtherHousing</th>\n",
       "      <td>7813.29</td>\n",
       "    </tr>\n",
       "    <tr>\n",
       "      <th>Utilities</th>\n",
       "      <td>5625.57</td>\n",
       "    </tr>\n",
       "    <tr>\n",
       "      <th>ClothingAndBeauty</th>\n",
       "      <td>1673.92</td>\n",
       "    </tr>\n",
       "    <tr>\n",
       "      <th>Transportation</th>\n",
       "      <td>10466.16</td>\n",
       "    </tr>\n",
       "    <tr>\n",
       "      <th>Healthcare</th>\n",
       "      <td>8422.85</td>\n",
       "    </tr>\n",
       "    <tr>\n",
       "      <th>Entertainment</th>\n",
       "      <td>3244.27</td>\n",
       "    </tr>\n",
       "    <tr>\n",
       "      <th>Miscellaneous</th>\n",
       "      <td>1292.44</td>\n",
       "    </tr>\n",
       "    <tr>\n",
       "      <th>CharitableAndFamilyGiving</th>\n",
       "      <td>3715.95</td>\n",
       "    </tr>\n",
       "    <tr>\n",
       "      <th>Insurance</th>\n",
       "      <td>826.20</td>\n",
       "    </tr>\n",
       "    <tr>\n",
       "      <th>Education</th>\n",
       "      <td>593.40</td>\n",
       "    </tr>\n",
       "  </tbody>\n",
       "</table>\n",
       "</div>"
      ],
      "text/plain": [
       "                                 10\n",
       "FoodAtHome                  7557.60\n",
       "FoodAway                    3702.86\n",
       "Housing                    13146.18\n",
       "OtherHousing                7813.29\n",
       "Utilities                   5625.57\n",
       "ClothingAndBeauty           1673.92\n",
       "Transportation             10466.16\n",
       "Healthcare                  8422.85\n",
       "Entertainment               3244.27\n",
       "Miscellaneous               1292.44\n",
       "CharitableAndFamilyGiving   3715.95\n",
       "Insurance                    826.20\n",
       "Education                    593.40"
      ]
     },
     "execution_count": 259,
     "metadata": {},
     "output_type": "execute_result"
    }
   ],
   "source": [
    "income = 100000\n",
    "single = False\n",
    "\n",
    "if single:\n",
    "    regressionDf = incomeRegressionSingle\n",
    "    theIncomeBrackets = singleIncomeBrackets\n",
    "    plyntyDf = plyntySingle\n",
    "    truncation = SingleTruncation\n",
    "else:\n",
    "    regressionDf = incomeRegressionFamily\n",
    "    theIncomeBrackets = familyIncomeBrackets\n",
    "    plyntyDf = plyntyFamily\n",
    "    truncation = FamilyTruncation\n",
    "\n",
    "def getIncomeBracketIndex(income, theIncomeBrackets):\n",
    "    incomebracket = 0\n",
    "    for i in range(0,len(theIncomeBrackets)):\n",
    "        if income <= theIncomeBrackets[i]:\n",
    "            return(i-1)\n",
    "    return(len(theIncomeBrackets)-1)\n",
    "\n",
    "pd.DataFrame(round((plyntyDf.iloc[getIncomeBracketIndex(income, theIncomeBrackets),:] * getExpendPercent(income, regressionDf, truncation) * income), 2))"
   ]
  },
  {
   "cell_type": "markdown",
   "metadata": {},
   "source": [
    "## Create a DataFrame using the Expenditure/Income regression for the midpoint of each income bracket"
   ]
  },
  {
   "cell_type": "code",
   "execution_count": 211,
   "metadata": {},
   "outputs": [],
   "source": [
    "regressionDf = incomeRegressionFamily\n",
    "theIncomeBrackets = familyIncomeBrackets\n",
    "plyntyDf = plyntyFamily\n",
    "truncation = FamilyTruncation\n",
    "\n",
    "expenditures = pd.DataFrame()\n",
    "\n",
    "for i in range(0,len(familyIncomeBrackets)-1):\n",
    "    income = (familyIncomeBrackets[i+1]+familyIncomeBrackets[i])/2\n",
    "    val = round((plyntyDf.iloc[getIncomeBracketIndex(income, familyIncomeBrackets),:] * getExpendPercent(income, regressionDf, truncation) * income), 2)\n",
    "    expenditures = pd.concat([expenditures, val], axis=1)"
   ]
  },
  {
   "cell_type": "markdown",
   "metadata": {},
   "source": [
    "#### Save DataFrame"
   ]
  },
  {
   "cell_type": "code",
   "execution_count": 223,
   "metadata": {},
   "outputs": [],
   "source": [
    "expenditures.columns = list(getFamilyIncomeBracket.values())\n",
    "expenditures.to_csv('DC_Expenditures.csv')"
   ]
  }
 ],
 "metadata": {
  "kernelspec": {
   "display_name": "Python 3",
   "language": "python",
   "name": "python3"
  },
  "language_info": {
   "codemirror_mode": {
    "name": "ipython",
    "version": 3
   },
   "file_extension": ".py",
   "mimetype": "text/x-python",
   "name": "python",
   "nbconvert_exporter": "python",
   "pygments_lexer": "ipython3",
   "version": "3.6.7"
  }
 },
 "nbformat": 4,
 "nbformat_minor": 2
}
